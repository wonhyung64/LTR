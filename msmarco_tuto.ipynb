{
 "cells": [
  {
   "cell_type": "markdown",
   "metadata": {},
   "source": [
    "MODULE IMPORT"
   ]
  },
  {
   "cell_type": "code",
   "execution_count": 1,
   "metadata": {},
   "outputs": [
    {
     "name": "stderr",
     "output_type": "stream",
     "text": [
      "/root/won/conda_env/splade_env/lib/python3.8/site-packages/tqdm/auto.py:22: TqdmWarning: IProgress not found. Please update jupyter and ipywidgets. See https://ipywidgets.readthedocs.io/en/stable/user_install.html\n",
      "  from .autonotebook import tqdm as notebook_tqdm\n"
     ]
    }
   ],
   "source": [
    "from sentence_transformers import losses, models, SentenceTransformer\n",
    "from beir import util, LoggingHandler\n",
    "from beir.datasets.data_loader import GenericDataLoader\n",
    "from beir.retrieval.train import TrainRetriever\n",
    "import pathlib, os\n",
    "import logging"
   ]
  },
  {
   "cell_type": "markdown",
   "metadata": {},
   "source": [
    "DATASET LOADING"
   ]
  },
  {
   "cell_type": "code",
   "execution_count": 7,
   "metadata": {},
   "outputs": [
    {
     "name": "stderr",
     "output_type": "stream",
     "text": [
      "100%|██████████| 8841823/8841823 [00:34<00:00, 256724.71it/s]\n"
     ]
    }
   ],
   "source": [
    "dataset = \"msmarco\"\n",
    "url = \"https://public.ukp.informatik.tu-darmstadt.de/thakur/BEIR/datasets/{}.zip\".format(dataset)\n",
    "# out_dir = os.path.join(pathlib.Path(__file__).parent.absolute(), \"datasets\")\n",
    "out_dir = os.path.join(pathlib.Path(\"/root/won/LTR/msmarco_tuto.ipynb\").parent.absolute(), \"datasets\")\n",
    "data_path = util.download_and_unzip(url, out_dir)\n",
    "document_set, query_set, relevance_set = GenericDataLoader(data_path).load(split=\"train\")"
   ]
  },
  {
   "cell_type": "code",
   "execution_count": 18,
   "metadata": {},
   "outputs": [
    {
     "name": "stdout",
     "output_type": "stream",
     "text": [
      "# of queries : 502939\n",
      "(Query id)   : (Text)\n",
      "1185869      : )what was the immediate impact of the success of the manhattan project?\n",
      "1185868      : _________ justice is designed to repair the harm to victim, the community and the offender caused by the offender criminal act. question 19 options:\n",
      "597651       : what color is amber urine\n"
     ]
    }
   ],
   "source": [
    "print(f\"# of queries : {len(query_set)}\")\n",
    "print(\"(Query id)   : (Text)\")\n",
    "for i, (query_id, query_text) in enumerate(query_set.items()):\n",
    "    print(f\"{query_id.ljust(13)}: {query_text}\")\n",
    "    if i == 2: break"
   ]
  },
  {
   "cell_type": "code",
   "execution_count": 16,
   "metadata": {},
   "outputs": [
    {
     "name": "stdout",
     "output_type": "stream",
     "text": [
      "# of docs : 8841823\n",
      "(Doc. id) : (Text)\n",
      "0         : The presence of communication amid scientific minds was equally important to the\n",
      "1         : The Manhattan Project and its atomic bomb helped bring an end to World War II. I\n",
      "2         : Essay on The Manhattan Project - The Manhattan Project The Manhattan Project was\n"
     ]
    }
   ],
   "source": [
    "print(f\"# of docs : {len(document_set)}\")\n",
    "print(\"(Doc. id) : (Text)\")\n",
    "for i, (document_id, document_text) in enumerate(document_set.items()):\n",
    "    print(f\"{document_id.ljust(10)}: {document_text['text'][:80]}\")\n",
    "    if i == 2: break"
   ]
  },
  {
   "cell_type": "code",
   "execution_count": null,
   "metadata": {},
   "outputs": [],
   "source": []
  }
 ],
 "metadata": {
  "kernelspec": {
   "display_name": "base",
   "language": "python",
   "name": "python3"
  },
  "language_info": {
   "codemirror_mode": {
    "name": "ipython",
    "version": 3
   },
   "file_extension": ".py",
   "mimetype": "text/x-python",
   "name": "python",
   "nbconvert_exporter": "python",
   "pygments_lexer": "ipython3",
   "version": "3.8.13"
  }
 },
 "nbformat": 4,
 "nbformat_minor": 2
}
